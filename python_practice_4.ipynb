{
  "cells": [
    {
      "cell_type": "markdown",
      "metadata": {
        "id": "kXpppdVm6wFy"
      },
      "source": [
        "# I. Functions. Arguments."
      ]
    },
    {
      "cell_type": "markdown",
      "metadata": {
        "id": "u_krJdlbAkVz"
      },
      "source": [
        "1. (5б) Назвіть основні 4 смислові  частини, з яких складається функція."
      ]
    },
    {
      "cell_type": "markdown",
      "metadata": {
        "id": "KKTrTXmHAptb"
      },
      "source": [
        "Заголовок, тіло, параметри, повернене значення."
      ]
    },
    {
      "cell_type": "markdown",
      "metadata": {
        "id": "ORM4PqJQAtDM"
      },
      "source": [
        "2. (3б) Визначте функцію, що приймає 2 аргументи та повертає результат ділення 1го аргумента на інший."
      ]
    },
    {
      "cell_type": "code",
      "execution_count": null,
      "metadata": {
        "id": "EuDx-z8M6sLo"
      },
      "outputs": [],
      "source": [
        "def divide_numbers(a, b):\n",
        "    \"\"\"Функція для ділення першого аргумента на другий.\"\"\"\n",
        "    if b == 0:\n",
        "        print(\"Ділення на нуль неможливе.\")\n",
        "        return None\n",
        "    return a / b\n",
        "\n",
        "# Приклад використання функції\n",
        "result = divide_numbers(10, 2)\n",
        "print(\"Результат ділення: \", result)\n"
      ]
    },
    {
      "cell_type": "markdown",
      "metadata": {
        "id": "5joQGQ-SAyMe"
      },
      "source": [
        "3. (2б) Викличте вище визначену функцію, де другий аргумент дорівнює 0."
      ]
    },
    {
      "cell_type": "code",
      "execution_count": null,
      "metadata": {
        "id": "V5cBV1LOA3d-"
      },
      "outputs": [],
      "source": [
        "# Виклик функції з другим аргументом, що дорівнює 0\n",
        "result = divide_numbers(10, 0)\n",
        "print(\"Результат ділення: \", result)\n"
      ]
    },
    {
      "cell_type": "markdown",
      "metadata": {
        "id": "QyimWgW8A43-"
      },
      "source": [
        "4. (4б) Перевизначте функцію так, щоби у випадку ділення на 0 функція повертала None, а в решті випадків - результат розрахунків."
      ]
    },
    {
      "cell_type": "code",
      "execution_count": null,
      "metadata": {
        "id": "7VIODtSjA8Ek"
      },
      "outputs": [],
      "source": [
        "def divide_numbers(a, b):\n",
        "    \"\"\"Функція для ділення першого аргумента на другий.\"\"\"\n",
        "    if b == 0:\n",
        "        print(\"Ділення на нуль неможливе.\")\n",
        "        return None\n",
        "    else:\n",
        "        return a / b\n",
        "\n",
        "# Приклад використання оновленої функції\n",
        "result1 = divide_numbers(10, 2)\n",
        "result2 = divide_numbers(10, 0)\n",
        "\n",
        "print(\"Результат ділення 10 на 2: \", result1)\n",
        "print(\"Результат ділення 10 на 0: \", result2)\n"
      ]
    },
    {
      "cell_type": "markdown",
      "metadata": {
        "id": "Y8mN0GfkA81l"
      },
      "source": [
        "5. (5б) Визначте функцію, що віднімає одне число від іншого (підказка: це буде 2 аргументи функції). При чому, якщо не визначити, скільки саме має бути віднято від числа, за замовчуванням має відніматися 1. Викличте функцію, передаючи тільки один аргумент."
      ]
    },
    {
      "cell_type": "code",
      "execution_count": null,
      "metadata": {
        "id": "vg1kxkdgBA50"
      },
      "outputs": [],
      "source": [
        "def subtract_numbers(a, b=1):\n",
        "    \"\"\"Функція для віднімання одного числа від іншого.\"\"\"\n",
        "    return a - b\n",
        "\n",
        "# Виклик функції з одним аргументом (за замовчуванням буде відніматися 1)\n",
        "result = subtract_numbers(10)\n",
        "print(\"Результат віднімання: \", result)\n"
      ]
    },
    {
      "cell_type": "markdown",
      "metadata": {
        "id": "D3mwQGNOBBs4"
      },
      "source": [
        "6. (7б) Визначте функцію, яка приймає iterable (ітерабельний обʼєкт, напр. список), що складається з 7ми рядкових значень - назв погодних умов (напр. \"sunny\") за кожен день у тижні. Повертає функція словник, де ключами є рядки з погодними умовами, а значеннями - кількість разів, скільки дана погода була протягом тижня (напр. {'sunny': 1, ...}). Викличте цю функцію та виведіть результат її роботи на екран."
      ]
    },
    {
      "cell_type": "code",
      "execution_count": null,
      "metadata": {
        "id": "OsWm-hKcBFyn"
      },
      "outputs": [],
      "source": [
        "def count_weather_conditions(week_weather):\n",
        "    \"\"\"Функція для підрахунку кількості погодних умов протягом тижня.\"\"\"\n",
        "    weather_counts = {}\n",
        "    for weather in week_weather:\n",
        "        if weather in weather_counts:\n",
        "            weather_counts[weather] += 1\n",
        "        else:\n",
        "            weather_counts[weather] = 1\n",
        "    return weather_counts\n",
        "\n",
        "# Приклад використання функції\n",
        "week_weather = [\"sunny\", \"rainy\", \"cloudy\", \"sunny\", \"cloudy\", \"sunny\", \"rainy\"]\n",
        "result = count_weather_conditions(week_weather)\n",
        "print(\"Кількість погодних умов протягом тижня:\", result)"
      ]
    },
    {
      "cell_type": "markdown",
      "metadata": {
        "id": "RMiCcdOsBKQT"
      },
      "source": [
        "7. (15б) Напишіть програму, яка б шукала необхідне число у впорядкованому списку цілочислених значень, де\n",
        "число має вводитись з консолі.\n",
        "власне алгоритм пошуку винесений в окрему функцію, яка повертає булеве значення (знайдено число - True, не знайдено - False).\n",
        "в залежності від результату функції, виведіть на екран повідомлення про успішний або ж неуспішний пошук.\n",
        "Зауваження: використовувати оператор in заборонено."
      ]
    },
    {
      "cell_type": "code",
      "execution_count": null,
      "metadata": {
        "id": "UNCZg65OBOy-"
      },
      "outputs": [],
      "source": [
        "def binary_search(sorted_list, target):\n",
        "    \"\"\"Функція для бінарного пошуку значення у впорядкованому списку.\"\"\"\n",
        "    left = 0\n",
        "    right = len(sorted_list) - 1\n",
        "    while left <= right:\n",
        "        mid = (left + right) // 2\n",
        "        if sorted_list[mid] == target:\n",
        "            return True\n",
        "        elif sorted_list[mid] < target:\n",
        "            left = mid + 1\n",
        "        else:\n",
        "            right = mid - 1\n",
        "    return False\n",
        "\n",
        "# Вхідні дані - впорядкований список чисел\n",
        "sorted_list = [1, 3, 5, 7, 9, 11, 13, 15, 17, 19]\n",
        "\n",
        "# Введення числа, яке потрібно знайти\n",
        "target = int(input(\"Введіть число для пошуку: \"))\n",
        "\n",
        "# Виклик функції бінарного пошуку\n",
        "found = binary_search(sorted_list, target)\n",
        "\n",
        "# Виведення результату пошуку\n",
        "if found:\n",
        "    print(\"Число знайдено у списку.\")\n",
        "else:\n",
        "    print(\"Число не знайдено у списку.\")\n"
      ]
    },
    {
      "cell_type": "markdown",
      "metadata": {
        "id": "Ae1n_OvLBTsy"
      },
      "source": [
        "# II. Lambda functions."
      ]
    },
    {
      "cell_type": "markdown",
      "metadata": {
        "id": "xaD_wSlaCWen"
      },
      "source": [
        "8. (4б) В яких випадках варто використовувати лямбда-функції?"
      ]
    },
    {
      "cell_type": "markdown",
      "metadata": {
        "id": "42MB6OoLCakR"
      },
      "source": [
        "Прості операції: Наприклад, сортування списку за ключем може використовувати лямбда-функції для визначення ключа сортування.\n",
        "\n",
        "Функції вищих порядків: Лямбда-функції можна передавати як аргументи іншим функціям, що приймають функції, таким як map(), filter(), sorted(), або reduce(). \n",
        "\n",
        "Короткочасні використання: часто використовуються на місці, де їх визначення одноразове і не варто створювати окрему функцію.\n",
        "\n",
        "Callback-функції: Лямбда-функції добре підходять для використання в якості callback-функцій, наприклад, в обробниках подій або сортувальних ключах."
      ]
    },
    {
      "cell_type": "markdown",
      "metadata": {
        "id": "USrzrk7GCedk"
      },
      "source": [
        "9. (9б) Визначте список з рядками. Після цього визначте анонімну функцію для отримання першого символу у верхньому регістрі для кожного рядка списку.\n",
        "Підказка: використовуйте анонімну функцію в якості агрумента до вбудованої ф-ції, яка створена для застосування функцій над iterable обʼєктами. Результат виведіть на екран у вигляді кортежу."
      ]
    },
    {
      "cell_type": "code",
      "execution_count": null,
      "metadata": {
        "id": "M8QWUsMlCjWH"
      },
      "outputs": [],
      "source": [
        "# Визначення списку з рядками\n",
        "strings = [\"apple\", \"banana\", \"cherry\", \"date\"]\n",
        "\n",
        "# Використання анонімної функції для отримання першого символу у верхньому регістрі для кожного рядка\n",
        "result = tuple(map(lambda x: x[0].upper(), strings))\n",
        "\n",
        "# Виведення результату на екран\n",
        "print(result)\n"
      ]
    },
    {
      "cell_type": "markdown",
      "metadata": {
        "id": "9fyUhXOoCtGp"
      },
      "source": [
        "10. (10б) Визначте список з числовими значеннями (і цілими, і з рухомою комою). а) Відфільтруйте всі числа, які діляться націло на 3 за допомогою вбудованої функції та анонімної функції в якості аргумента). Збережіть результат у змінній, не приводяти явно до будь-якого типу. б) Використовуючи результат на кроці 12.а у якості аргументу, та за допомогою лямбда-функції в якості іншого аргументу до вбудованої функції, додайте до кожного елементу число 1 та опісля зведіть у квадрат. Остаточний результат приведіть явно до списку та виведіть на екран."
      ]
    },
    {
      "cell_type": "code",
      "execution_count": null,
      "metadata": {
        "id": "exEx2_okCsql"
      },
      "outputs": [],
      "source": [
        "# Визначення списку з числовими значеннями\n",
        "numbers = [1, 2, 3, 4, 5, 6, 7, 8, 9, 10, 11, 12, 13]\n",
        "\n",
        "# а) Відфільтруйте всі числа, які діляться націло на 3 за допомогою вбудованої функції та анонімної функції\n",
        "filtered_numbers = filter(lambda x: x % 3 == 0, numbers)\n",
        "\n",
        "# б) Додайте до кожного елементу число 1, зведіть у квадрат і перетворіть у список\n",
        "modified_numbers = list(map(lambda x: (x + 1) ** 2, filtered_numbers))\n",
        "\n",
        "# Виведення результату на екран\n",
        "print(modified_numbers)\n"
      ]
    },
    {
      "cell_type": "markdown",
      "metadata": {
        "id": "o_x8cG_WC7jp"
      },
      "source": [
        "# III. Decorators."
      ]
    },
    {
      "cell_type": "markdown",
      "metadata": {
        "id": "mhxS4-mfC8LQ"
      },
      "source": [
        "11. (11б) Визначте декоратор, який би виводив у консоль повідомлення про початок роботи і назву функції (напр. my_function._ _ name _ _), а після відпрацювання функції - повідомлення про закінчення роботи і назву функції, що задекорована."
      ]
    },
    {
      "cell_type": "code",
      "execution_count": 1,
      "metadata": {
        "id": "srd1ygWjDGhO"
      },
      "outputs": [
        {
          "name": "stdout",
          "output_type": "stream",
          "text": [
            "Початок роботи функції: example_function\n",
            "Закінчення роботи функції: example_function\n",
            "6\n"
          ]
        }
      ],
      "source": [
        "def my_decorator(func):\n",
        "    def wrapper(*args, **kwargs):\n",
        "        print(\"Початок роботи функції:\", func.__name__)\n",
        "        result = func(*args, **kwargs)\n",
        "        print(\"Закінчення роботи функції:\", func.__name__)\n",
        "        return result\n",
        "    return wrapper\n",
        "\n",
        "# Приклад використання декоратора\n",
        "@my_decorator\n",
        "def example_function(x):\n",
        "    return x * 2\n",
        "\n",
        "# Виклик функції\n",
        "print(example_function(3))\n"
      ]
    },
    {
      "cell_type": "markdown",
      "metadata": {
        "id": "rxGZwVBiDph3"
      },
      "source": [
        "12. (4б) Задекоруйте двома різними способами функції з завдання 4 та 5 декоратором із завдання 11. (**УВАГА**: не декоруйте функції двічі!)."
      ]
    },
    {
      "cell_type": "code",
      "execution_count": 3,
      "metadata": {
        "id": "06lj7eq_DwZe"
      },
      "outputs": [],
      "source": [
        "# Декоратор з завдання 11\n",
        "def my_decorator(func):\n",
        "    def wrapper(*args, **kwargs):\n",
        "        print(\"Початок роботи функції:\", func.__name__)\n",
        "        result = func(*args, **kwargs)\n",
        "        print(\"Закінчення роботи функції:\", func.__name__)\n",
        "        return result\n",
        "    return wrapper\n",
        "\n",
        "# Функція з завдання 4\n",
        "def divide(a, b):\n",
        "    return a / b\n",
        "\n",
        "# Функція з завдання 5\n",
        "def subtract(x, y):\n",
        "    return x - y\n",
        "\n",
        "# Перший спосіб декорування за допомогою @\n",
        "@my_decorator\n",
        "def decorated_divide(a, b):\n",
        "    return divide(a, b)\n",
        "\n",
        "# Другий спосіб декорування за допомогою вручну\n",
        "decorated_subtract = my_decorator(subtract)\n",
        "\n"
      ]
    },
    {
      "cell_type": "markdown",
      "metadata": {
        "id": "P0ep1urBDzf-"
      },
      "source": [
        "13. (2б) Викличте одну з задекорованих функцій і виведіть її результат на екран."
      ]
    },
    {
      "cell_type": "code",
      "execution_count": 4,
      "metadata": {
        "id": "1QvTw0ctD0S3"
      },
      "outputs": [
        {
          "name": "stdout",
          "output_type": "stream",
          "text": [
            "Початок роботи функції: decorated_divide\n",
            "Закінчення роботи функції: decorated_divide\n",
            "5.0\n",
            "Початок роботи функції: subtract\n",
            "Закінчення роботи функції: subtract\n",
            "2\n"
          ]
        }
      ],
      "source": [
        "print(decorated_divide(10, 2))\n",
        "print(decorated_subtract(5, 3))\n"
      ]
    },
    {
      "cell_type": "markdown",
      "metadata": {
        "id": "poECCpuoD2S9"
      },
      "source": [
        "# IV. Recursion."
      ]
    },
    {
      "cell_type": "markdown",
      "metadata": {
        "id": "DqkURfdsD7MY"
      },
      "source": [
        "14. (4б) Назвіть дві частини функції, які є обовʼязковими для того, щоб називати її рекурсивною."
      ]
    },
    {
      "cell_type": "markdown",
      "metadata": {
        "id": "HYW6ttIeIQIU"
      },
      "source": [
        "Виклик функції власним ім'ям: Це момент, коли функція викликає саму себе у своєму внутрішньому коді.\n",
        "Базовий випадок: Це умова або випадок, коли рекурсивні виклики функції припиняються і не відбуваються більше, щоб уникнути безкінечного циклу."
      ]
    },
    {
      "cell_type": "markdown",
      "metadata": {
        "id": "WYVt20UmEA35"
      },
      "source": [
        "15. (15б) Визначте функцію, яка рекурсивно реалізовує пошук числа у послідовності Фібоначчі за її індексом (нумерація починається з нуля). Наприклад, потрібно знайти перше число у послідовності, тоді функція прийматиме 0 у якості аргумента і повертатиме 1, якщо ж знаходити третє число (індекс 2) послідовності, то функція повертатиме 2, якщо ж знаходити десяте число (індекс 9), то функція повертатиме 55."
      ]
    },
    {
      "cell_type": "code",
      "execution_count": null,
      "metadata": {
        "id": "xIMhp05AIpV_"
      },
      "outputs": [],
      "source": [
        "def fibonacci(index):\n",
        "    if index <= 1:\n",
        "        return index\n",
        "    else:\n",
        "        return fibonacci(index - 1) + fibonacci(index - 2)\n",
        "\n",
        "# Приклади викликів функції\n",
        "print(fibonacci(0))  # 0\n",
        "print(fibonacci(2))  # 1\n",
        "print(fibonacci(9))  # 34"
      ]
    },
    {
      "cell_type": "markdown",
      "metadata": {
        "id": "ytXC8n_4Ip0W"
      },
      "source": [
        "# Вітаю! Ви велика(ий) молодець, що впоралась(вся). Похваліть себе та побалуйте чимось приємним. Я Вами пишаюся."
      ]
    }
  ],
  "metadata": {
    "colab": {
      "provenance": []
    },
    "kernelspec": {
      "display_name": "Python 3",
      "name": "python3"
    },
    "language_info": {
      "codemirror_mode": {
        "name": "ipython",
        "version": 3
      },
      "file_extension": ".py",
      "mimetype": "text/x-python",
      "name": "python",
      "nbconvert_exporter": "python",
      "pygments_lexer": "ipython3",
      "version": "3.11.0"
    }
  },
  "nbformat": 4,
  "nbformat_minor": 0
}
