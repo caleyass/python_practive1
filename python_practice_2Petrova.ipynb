{
  "cells": [
    {
      "cell_type": "markdown",
      "metadata": {
        "id": "p9wwt0LZzNvn"
      },
      "source": [
        "# I. Змінні та памʼять."
      ]
    },
    {
      "cell_type": "markdown",
      "metadata": {
        "id": "HTJrrm95xSV9"
      },
      "source": [
        "1. Створити змінні, що посилаються на два цілих числа, що однакові за значенням, де значення належить проміжку від -5 до 256. Перевірте, чи будуть ці змінні рівні тільки за значенням або ж ще будуть посилатися на один і той самий обʼєкт в памʼяті? Наведіть код та дайте текстову відповідь нижче."
      ]
    },
    {
      "cell_type": "code",
      "execution_count": 1,
      "metadata": {
        "id": "TATni2vzayjG"
      },
      "outputs": [
        {
          "name": "stdout",
          "output_type": "stream",
          "text": [
            "Значення a: 100\n",
            "Значення b: 100\n",
            "a рівне b за значенням: True\n",
            "a посилається на той самий об'єкт, що й b: True\n"
          ]
        }
      ],
      "source": [
        "a = 100\n",
        "b = 100\n",
        "\n",
        "print(\"Значення a:\", a)\n",
        "print(\"Значення b:\", b)\n",
        "print(\"a рівне b за значенням:\", a == b)\n",
        "print(\"a посилається на той самий об'єкт, що й b:\", a is b)"
      ]
    },
    {
      "cell_type": "markdown",
      "metadata": {
        "id": "zfRG_o3WbRdg"
      },
      "source": [
        "Пайтон кешує значення в наведеному діапазоні щоб посилатися на однакомі комірки пам'яті і не витрачати на пам'ять і час на створення нової комірки."
      ]
    },
    {
      "cell_type": "markdown",
      "metadata": {
        "id": "ISORzt6M3vAt"
      },
      "source": [
        "2. За допомогою якої функції можна перевірити належність змінної до вказаного типу даних (напр. чи змінна True посилається на значення булевого та цілочисленого типу)?"
      ]
    },
    {
      "cell_type": "code",
      "execution_count": 2,
      "metadata": {
        "id": "9vL9CFaMbfyo"
      },
      "outputs": [
        {
          "name": "stdout",
          "output_type": "stream",
          "text": [
            "Змінна var є булевого типу: True\n",
            "Змінна var є цілочисельного типу: True\n"
          ]
        }
      ],
      "source": [
        "var = True\n",
        "\n",
        "# Перевірка, чи змінна var є булевого типу\n",
        "is_boolean = isinstance(var, bool)\n",
        "print(\"Змінна var є булевого типу:\", is_boolean)\n",
        "\n",
        "# Перевірка, чи змінна var є цілочисельного типу\n",
        "is_integer = isinstance(var, int)\n",
        "print(\"Змінна var є цілочисельного типу:\", is_integer)\n"
      ]
    },
    {
      "cell_type": "markdown",
      "metadata": {
        "id": "tRxugKAxwYLw"
      },
      "source": [
        "# II. Цілі числа та числа з рухомою комою"
      ]
    },
    {
      "cell_type": "markdown",
      "metadata": {
        "id": "NLHkgd5Gybc8"
      },
      "source": [
        "3. Створити дві змінні, що посилаються на будь-які ціле число та число з рухомою комою та продемонструвати такі арифметичні операції: додавання, віднімання, ділення, множення, ділення без залишку, ділення по модулю, приведення до ступеню. Всі результати операцій вивести на екран."
      ]
    },
    {
      "cell_type": "code",
      "execution_count": 3,
      "metadata": {
        "id": "nb8u_3pjb2cA"
      },
      "outputs": [
        {
          "name": "stdout",
          "output_type": "stream",
          "text": [
            "Додавання: 13.5\n",
            "Віднімання: 6.5\n",
            "Ділення: 2.857142857142857\n",
            "Множення: 35.0\n",
            "Ділення без залишку: 2.0\n",
            "Ділення по модулю: 3.0\n",
            "Піднесення до ступеня: 100\n"
          ]
        }
      ],
      "source": [
        "# Створення змінних\n",
        "integer_num = 10\n",
        "float_num = 3.5\n",
        "\n",
        "# Додавання\n",
        "addition_result = integer_num + float_num\n",
        "print(\"Додавання:\", addition_result)\n",
        "\n",
        "# Віднімання\n",
        "subtraction_result = integer_num - float_num\n",
        "print(\"Віднімання:\", subtraction_result)\n",
        "\n",
        "# Ділення\n",
        "division_result = integer_num / float_num\n",
        "print(\"Ділення:\", division_result)\n",
        "\n",
        "# Множення\n",
        "multiplication_result = integer_num * float_num\n",
        "print(\"Множення:\", multiplication_result)\n",
        "\n",
        "# Ділення без залишку\n",
        "floor_division_result = integer_num // float_num\n",
        "print(\"Ділення без залишку:\", floor_division_result)\n",
        "\n",
        "# Ділення по модулю\n",
        "modulus_result = integer_num % float_num\n",
        "print(\"Ділення по модулю:\", modulus_result)\n",
        "\n",
        "# Піднесення до ступеня\n",
        "exponentiation_result = integer_num ** 2\n",
        "print(\"Піднесення до ступеня:\", exponentiation_result)\n"
      ]
    },
    {
      "cell_type": "markdown",
      "metadata": {
        "id": "1kBClKgPzZnC"
      },
      "source": [
        "4. Використовуючи змінні з вправи 3, продемонструйте механізм явного перетворення типів, де числа з рухомою комою перетворюються на цілі числа. Також визначте змінну, що посилається на значення булевого типу і спробуйте явно привести її до цілого числа."
      ]
    },
    {
      "cell_type": "code",
      "execution_count": 4,
      "metadata": {
        "id": "TbqJbkeUcKsD"
      },
      "outputs": [
        {
          "name": "stdout",
          "output_type": "stream",
          "text": [
            "Перетворення числа з рухомою комою на ціле число: 3\n"
          ]
        }
      ],
      "source": [
        "# Явне перетворення числа з рухомою комою на ціле число\n",
        "float_to_int = int(float_num)\n",
        "print(\"Перетворення числа з рухомою комою на ціле число:\", float_to_int)\n",
        "\n",
        "# Змінна булевого типу\n",
        "bool_var = True\n",
        "\n",
        "# Явне перетворення змінної булевого типу на ціле число\n",
        "bool_to_int = int(bool_var)\n",
        "print(\"Перетворення булевого значення на ціле число:\", bool_to_int)\n"
      ]
    },
    {
      "cell_type": "markdown",
      "metadata": {
        "id": "EVJ7AflwxrZi"
      },
      "source": [
        "# IІІ. Рядки (String)."
      ]
    },
    {
      "cell_type": "markdown",
      "metadata": {
        "id": "_s5ECzz9zE61"
      },
      "source": [
        "5. Створити пустий рядок двома різними способами."
      ]
    },
    {
      "cell_type": "code",
      "execution_count": null,
      "metadata": {
        "id": "fkZJHu9Scvc-"
      },
      "outputs": [],
      "source": [
        "empty_string_2 = str()\n",
        "empty_string_1 = ''"
      ]
    },
    {
      "cell_type": "markdown",
      "metadata": {
        "id": "4Bdn9J3MzLf_"
      },
      "source": [
        "6. Створити рядок з апострофом. Зробити його сирим. Вивести обидва рядка на екран."
      ]
    },
    {
      "cell_type": "code",
      "execution_count": 5,
      "metadata": {
        "id": "ivji_hsmc0GH"
      },
      "outputs": [
        {
          "name": "stdout",
          "output_type": "stream",
          "text": [
            "Рядок з апострофом: I'm using an apostrophe\n",
            "Сире представлення рядка: \"I'm using an apostrophe\"\n"
          ]
        }
      ],
      "source": [
        "# Створення рядка з апострофом (сирим рядком)\n",
        "string_with_apostrophe = r\"I'm using an apostrophe\"\n",
        "\n",
        "# Виведення рядка з апострофом та його сирої версії на екран\n",
        "print(\"Рядок з апострофом:\", string_with_apostrophe)\n",
        "print(\"Сире представлення рядка:\", repr(string_with_apostrophe))\n"
      ]
    },
    {
      "cell_type": "markdown",
      "metadata": {
        "id": "bg_d8wM4z8dS"
      },
      "source": [
        "7. Створити змінну, що буде посилатися на Ваше прізвище латинкою. Створити форматований рядок, який буде мати вигляд \"My surname is ______\", де на місці нижніх підкреслень буде Ваше прізвище зі змінної."
      ]
    },
    {
      "cell_type": "code",
      "execution_count": null,
      "metadata": {
        "id": "kuxFgpWndACq"
      },
      "outputs": [],
      "source": [
        "# Змінна з моїм прізвищем\n",
        "surname = \"Petrova\"\n",
        "\n",
        "# Форматований рядок\n",
        "formatted_string = f\"My surname is {surname}\"\n",
        "\n",
        "# Виведення рядка на екран\n",
        "print(formatted_string)\n"
      ]
    },
    {
      "cell_type": "markdown",
      "metadata": {
        "id": "1Nc6RqvQ0hxU"
      },
      "source": [
        "8. Маючи рядок \"My dog is crazy.\" перетворити його на список [\"my\", \"dog\", \"is\", \"crazy\"]"
      ]
    },
    {
      "cell_type": "code",
      "execution_count": 6,
      "metadata": {
        "id": "w1Ya4RqedUhw"
      },
      "outputs": [
        {
          "name": "stdout",
          "output_type": "stream",
          "text": [
            "['My', 'dog', 'is', 'crazy.']\n"
          ]
        }
      ],
      "source": [
        "# Вихідний рядок\n",
        "original_string = \"My dog is crazy.\"\n",
        "\n",
        "# Перетворення рядка на список слів\n",
        "word_list = original_string.split()\n",
        "\n",
        "# Виведення списку слів на екран\n",
        "print(word_list)\n"
      ]
    },
    {
      "cell_type": "markdown",
      "metadata": {
        "id": "GYVqN9uP1D4n"
      },
      "source": [
        "# IV. Робота зі списками."
      ]
    },
    {
      "cell_type": "markdown",
      "metadata": {
        "id": "7-DeDunw2sO-"
      },
      "source": [
        "9. Створити список двома різними за синтаксисом способами. За допомогою вбудованої функції обчисліть довжину одного з них."
      ]
    },
    {
      "cell_type": "code",
      "execution_count": null,
      "metadata": {
        "id": "zxg06Uuxdyoh"
      },
      "outputs": [],
      "source": [
        "list_1 = [1, 2, 3, 4, 5]\n",
        "list_2 = list(range(5))\n",
        "# Обчислення довжини першого списку\n",
        "length_1 = len(list_1)\n",
        "print(\"Довжина першого списку:\", length_1)\n"
      ]
    },
    {
      "cell_type": "markdown",
      "metadata": {
        "id": "8vmGUTjL22gI"
      },
      "source": [
        "10. Створіть два списка та за допомогою спеціального методу додайте другий з них в якості останнього елемента першого."
      ]
    },
    {
      "cell_type": "code",
      "execution_count": 7,
      "metadata": {
        "id": "uHtjWYw7d7hm"
      },
      "outputs": [
        {
          "name": "stdout",
          "output_type": "stream",
          "text": [
            "Об'єднаний список за допомогою методу extend(): [1, 2, 3, 4, 5, 6]\n"
          ]
        }
      ],
      "source": [
        "# Перший список\n",
        "list1 = [1, 2, 3]\n",
        "\n",
        "# Другий список\n",
        "list2 = [4, 5, 6]\n",
        "\n",
        "# Використання методу extend()\n",
        "list1.extend(list2)\n",
        "\n",
        "print(\"Об'єднаний список за допомогою методу extend():\", list1)\n"
      ]
    },
    {
      "cell_type": "markdown",
      "metadata": {
        "id": "JC3BkD-67_--"
      },
      "source": [
        "11. Створіть список, де елементами цього списку також є списки. Отримай перший елемент з останнього рядка та виведи значення на екран."
      ]
    },
    {
      "cell_type": "code",
      "execution_count": null,
      "metadata": {
        "id": "Kz2jZHsGeLlz"
      },
      "outputs": [],
      "source": [
        "# Створення списку списків\n",
        "nested_list = [[1, 2, 3], [4, 5, 6], [7, 8, 9]]\n",
        "\n",
        "# Отримання першого елемента з останнього рядка\n",
        "element = nested_list[-1][0]\n",
        "\n",
        "# Виведення значення на екран\n",
        "print(\"Перший елемент з останнього рядка:\", element)\n"
      ]
    },
    {
      "cell_type": "markdown",
      "metadata": {
        "id": "JA47PKTv8zFK"
      },
      "source": [
        "12. Створіть список з десяти елементів різного типу. Отримайте всі елементи, окрім двох перших та двох останніх та збережіть їх в новій змінній."
      ]
    },
    {
      "cell_type": "code",
      "execution_count": null,
      "metadata": {
        "id": "_rHdUR-ueP4-"
      },
      "outputs": [],
      "source": [
        "# Створення списку з десяти елементів різного типу\n",
        "original_list = [1, 'two', 3.0, True, [5, 6], 'seven', {'eight': 8}, None, (9, 10), 'eleven']\n",
        "\n",
        "# Збереження всіх елементів, окрім двох перших та двох останніх\n",
        "new_list = original_list[2:-2]\n",
        "\n",
        "# Виведення нового списку на екран\n",
        "print(\"Новий список без перших та останніх двох елементів:\", new_list)\n"
      ]
    },
    {
      "cell_type": "markdown",
      "metadata": {
        "id": "pCjR1dJb1Qbi"
      },
      "source": [
        "# V. Робота з кортежами."
      ]
    },
    {
      "cell_type": "markdown",
      "metadata": {
        "id": "fAZCxAX06R_k"
      },
      "source": [
        "14. Створити кортеж з один елементом."
      ]
    },
    {
      "cell_type": "code",
      "execution_count": null,
      "metadata": {
        "id": "H7d82WkQev3e"
      },
      "outputs": [],
      "source": [
        "# Створення кортежу з одним елементом\n",
        "tuple_with_one_element = (1,)\n",
        "\n",
        "# Виведення кортежу на екран\n",
        "print(tuple_with_one_element)\n"
      ]
    },
    {
      "cell_type": "markdown",
      "metadata": {
        "id": "8LCtYcmI6w1M"
      },
      "source": [
        "15. Порівняйте список та кортеж. Назвіть схожості та відмінності, випадки використання."
      ]
    },
    {
      "cell_type": "markdown",
      "metadata": {
        "id": "fUsN1Hnue0C6"
      },
      "source": [
        "Схожості\n",
        "Можливість зберігання кількох значень: Обидва типи даних можуть зберігати кілька значень в одній змінній.\n",
        "Індексований доступ: Елементи списку та кортежу можна отримати за допомогою індексів.\n",
        "Необмежена довжина: Як список, так і кортеж можуть містити будь-яку кількість елементів.\n",
        "Відмінності:\n",
        "Можливість зміни: Елементи списку mutable, кортежу - immutable\n",
        "Синтаксис: Список створюється за допомогою квадратних дужок [], а кортеж за допомогою круглих дужок ().\n",
        "Швидкодія: У багатьох випадках кортежі працюють швидше, ніж списки, оскільки кортежі є немутабельними, і їх структура даних може бути оптимізована.\n",
        "Використання: Зазвичай списки використовуються там, де потрібна змінювана структура даних, тоді як кортежі використовуються там, де дані не повинні змінюватися після створення, наприклад, для представлення незмінних сутностей, які мають фіксовану структуру."
      ]
    },
    {
      "cell_type": "markdown",
      "metadata": {
        "id": "m0xrwFijAmDD"
      },
      "source": [
        "16. Створіть кортеж з 11ти елементів чисел з рухомою комою та отримайте кожен парний за індексом елемент в зворотньому порядку. Наприклад, маючи (1.2, 2.3, 3.3, 4.3, 5.3, 6.3, 7.3, 8.3, 9.3, 0.3), отримати (0.3, 8.3, 6.3, 4.3, 2.3). Результат збережіть в нову змінну та виведіть на екран."
      ]
    },
    {
      "cell_type": "code",
      "execution_count": null,
      "metadata": {
        "id": "p-5DAH6XfAGA"
      },
      "outputs": [],
      "source": [
        "# Створення кортежу з 11 елементів чисел з рухомою комою\n",
        "original_tuple = (1.2, 2.3, 3.3, 4.3, 5.3, 6.3, 7.3, 8.3, 9.3, 0.3, 11.3)\n",
        "\n",
        "# Отримання кожного парного за індексом елементу в зворотньому порядку\n",
        "result_tuple = original_tuple[-2::-2]\n",
        "\n",
        "# Виведення результату на екран\n",
        "print(\"Результат:\", result_tuple)\n"
      ]
    },
    {
      "cell_type": "markdown",
      "metadata": {
        "id": "rW_I9dt3x6cW"
      },
      "source": [
        "# VI. Множини (Set)."
      ]
    },
    {
      "cell_type": "markdown",
      "metadata": {
        "id": "zNjRLHLw1Bgg"
      },
      "source": [
        "17. Створити множину без елементів. Після цого за допомогою методу додайте кілька різних елементів до множини. Чи множини є змінним типом даних?"
      ]
    },
    {
      "cell_type": "code",
      "execution_count": null,
      "metadata": {
        "id": "KOv7zc2Kfo4N"
      },
      "outputs": [],
      "source": [
        "# Створення порожньої множини\n",
        "my_set = set()\n",
        "\n",
        "# Додавання елементів до множини\n",
        "my_set.add(1)\n",
        "my_set.add(2)\n",
        "my_set.add(3)\n",
        "\n",
        "# Виведення множини на екран\n",
        "print(\"Множина з доданими елементами:\", my_set)\n"
      ]
    },
    {
      "cell_type": "markdown",
      "metadata": {
        "id": "vxS6dVYiftZQ"
      },
      "source": [
        "*місце для текстової відповіді"
      ]
    },
    {
      "cell_type": "markdown",
      "metadata": {
        "id": "gHpT0Zw_1HEF"
      },
      "source": [
        "18. Створити множину, маючи список my_list = [1, 1, 2, 67, 67, 8, 9]. Пояснити, чому \"зникли\" деякі елементи."
      ]
    },
    {
      "cell_type": "code",
      "execution_count": null,
      "metadata": {
        "id": "qCN4uvJ_fxmu"
      },
      "outputs": [],
      "source": [
        "# Список\n",
        "my_list = [1, 1, 2, 67, 67, 8, 9]\n",
        "\n",
        "# Створення множини зі списку\n",
        "my_set = set(my_list)\n",
        "\n",
        "# Виведення множини на екран\n",
        "print(\"Множина з унікальними елементами:\", my_set)\n"
      ]
    },
    {
      "cell_type": "markdown",
      "metadata": {
        "id": "tFNc1e20fyny"
      },
      "source": [
        "Бо в множині унікальні елементи"
      ]
    },
    {
      "cell_type": "markdown",
      "metadata": {
        "id": "SRMkGizS1UwY"
      },
      "source": [
        "19. Створіть дві множини. Продемонстуйте над ними операції: обʼєднання, різниці, пересічі та симетричної різниці. Використовуйте методи, що не змінюють множини, а створюють нові."
      ]
    },
    {
      "cell_type": "code",
      "execution_count": 8,
      "metadata": {
        "id": "h0T-VuDnf3Ri"
      },
      "outputs": [
        {
          "name": "stdout",
          "output_type": "stream",
          "text": [
            "Об'єднання множин: {1, 2, 3, 4, 5, 6, 7, 8}\n",
            "Різниця множин: {1, 2, 3}\n",
            "Пересічення множин: {4, 5}\n",
            "Симетрична різниця множин: {1, 2, 3, 6, 7, 8}\n"
          ]
        }
      ],
      "source": [
        "# Створення двох множин\n",
        "set1 = {1, 2, 3, 4, 5}\n",
        "set2 = {4, 5, 6, 7, 8}\n",
        "\n",
        "# Об'єднання множин\n",
        "union_set = set1.union(set2)\n",
        "\n",
        "# Різниця множин (елементи, що є в першій множині, але не в другій)\n",
        "difference_set = set1.difference(set2)\n",
        "\n",
        "# Пересічення множин (елементи, які є в обох множинах)\n",
        "intersection_set = set1.intersection(set2)\n",
        "\n",
        "# Симетрична різниця множин (елементи, що є в одній з множин, але не в обох)\n",
        "symmetric_difference_set = set1.symmetric_difference(set2)\n",
        "\n",
        "# Виведення результатів на екран\n",
        "print(\"Об'єднання множин:\", union_set)\n",
        "print(\"Різниця множин:\", difference_set)\n",
        "print(\"Пересічення множин:\", intersection_set)\n",
        "print(\"Симетрична різниця множин:\", symmetric_difference_set)\n"
      ]
    },
    {
      "cell_type": "markdown",
      "metadata": {
        "id": "kWc8gkzTx7Ea"
      },
      "source": [
        "# VII. Словники (Dictionary)."
      ]
    },
    {
      "cell_type": "markdown",
      "metadata": {
        "id": "i5FLwj-B2ybQ"
      },
      "source": [
        "20. Створіть пустий словник. До нього додайте чотири пари елементів такі, щоб їхні ключі були різних типів. Чи може список бути ключем? Чому?"
      ]
    },
    {
      "cell_type": "code",
      "execution_count": null,
      "metadata": {
        "id": "hxgv3BzrgLAV"
      },
      "outputs": [],
      "source": [
        "# Створення порожнього словника\n",
        "my_dict = {}\n",
        "\n",
        "# Додавання пар елементів з різними типами ключів\n",
        "my_dict[1] = \"integer key\"\n",
        "my_dict[\"two\"] = \"string key\"\n",
        "my_dict[3.0] = \"float key\"\n",
        "my_dict[(4, 5)] = \"tuple key\"\n",
        "\n",
        "# Виведення словника на екран\n",
        "print(\"Словник:\", my_dict)"
      ]
    },
    {
      "cell_type": "markdown",
      "metadata": {
        "id": "zwa7UVN-gR3m"
      },
      "source": [
        "Список не може бути ключем в словнику. Ключі у словнику повинні бути хешованими типами даних, тобто такими, які не можуть змінюватися та мають унікальне хеш-значення. Список, як змінна структура даних, не є хешованим, оскільки він може бути змінений (мутований), і тому не може бути використаний як ключ у словнику."
      ]
    },
    {
      "cell_type": "markdown",
      "metadata": {
        "id": "WM_pMlJsgoNf"
      },
      "source": [
        "21. Створіть словник, де значенням в одній з пар теж буде словник, який теж має вкладений словник. Виведіть на екран значення, що міститься в словнику, що знаходиться на найнижчому рівні ієрархії вкладеності (найбільш внутрішній)."
      ]
    },
    {
      "cell_type": "code",
      "execution_count": null,
      "metadata": {
        "id": "60dlP7IHhAy4"
      },
      "outputs": [],
      "source": [
        "# Створення словника з вкладеними структурами\n",
        "my_dict = {\n",
        "    \"key1\": \"value1\",\n",
        "    \"key2\": {\n",
        "        \"nested_key1\": \"nested_value1\",\n",
        "        \"nested_key2\": {\n",
        "            \"inner_key\": \"inner_value\"\n",
        "        }\n",
        "    }\n",
        "}\n",
        "\n",
        "# Отримання значення з найбільш внутрішнього словника\n",
        "inner_value = my_dict[\"key2\"][\"nested_key2\"][\"inner_key\"]\n",
        "\n",
        "# Виведення значення на екран\n",
        "print(\"Значення з найбільш внутрішнього словника:\", inner_value)"
      ]
    },
    {
      "cell_type": "markdown",
      "metadata": {
        "id": "xOZP0hkx6cCr"
      },
      "source": [
        "# Вітаю! Ви велика(ий) молодець, що впоралась(вся). Похваліть себе та побалуйте чимось приємним. Я Вами пишаюся."
      ]
    }
  ],
  "metadata": {
    "colab": {
      "provenance": []
    },
    "kernelspec": {
      "display_name": "Python 3",
      "name": "python3"
    },
    "language_info": {
      "codemirror_mode": {
        "name": "ipython",
        "version": 3
      },
      "file_extension": ".py",
      "mimetype": "text/x-python",
      "name": "python",
      "nbconvert_exporter": "python",
      "pygments_lexer": "ipython3",
      "version": "3.11.0"
    }
  },
  "nbformat": 4,
  "nbformat_minor": 0
}
